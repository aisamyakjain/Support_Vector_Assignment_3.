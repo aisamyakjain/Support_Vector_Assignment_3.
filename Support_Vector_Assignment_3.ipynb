{
 "cells": [
  {
   "cell_type": "markdown",
   "id": "a288dce5-033c-417d-8286-baccaf2e42fe",
   "metadata": {},
   "source": [
    "Q2. You have built an SVM regression model and are trying to decide between using MSE or R-squared as \n",
    "your evaluation metric. Which metric would be more appropriate if your goal is to predict the actual price \n",
    "of a house as accurately as possible\n",
    "\n",
    "Answer: If the goal is to predict the actual price of a house as accurately as possible, the Mean Squared Error (MSE) would be a more appropriate evaluation metric compared to R-squared.\n",
    "\n",
    "MSE measures the average squared difference between the predicted and actual house prices. It provides a measure of how close the predicted prices are to the true prices, with smaller values indicating better accuracy. Minimizing the MSE helps in reducing the overall prediction errors and improving the precision of the house price predictions.\n",
    "\n",
    "R-squared, on the other hand, measures the proportion of the variance in the house prices that is explained by the regression model. While R-squared is a valuable metric for understanding the goodness-of-fit and model performance, it may not directly reflect the accuracy of individual house price predictions. R-squared can be influenced by factors other than prediction accuracy, such as the variability in the dataset.\n",
    "\n",
    "Therefore, when the primary goal is to predict the actual price of a house as accurately as possible, focusing on minimizing the MSE would be more appropriate."
   ]
  },
  {
   "cell_type": "markdown",
   "id": "eb410f0a-1574-476f-a0fe-f76ad64883cb",
   "metadata": {},
   "source": [
    "Q3. You have a dataset with a significant number of outliers and are trying to select an appropriate \n",
    "regression metric to use with your SVM model. Which metric would be the most appropriate in this \n",
    "scenario\n",
    "\n",
    "Answer: When dealing with a dataset containing a significant number of outliers, a robust regression metric such as Mean Absolute Error (MAE) would be the most appropriate choice for evaluating the SVM model."
   ]
  },
  {
   "cell_type": "markdown",
   "id": "ad246a88-017e-428e-b579-0a435487f722",
   "metadata": {},
   "source": [
    "Q4. You have built an SVM regression model using a polynomial kernel and are trying to select the best \n",
    "metric to evaluate its performance. You have calculated both MSE and RMSE and found that both values \n",
    "are very close. Which metric should you choose to use in this case?\n",
    "\n",
    "Answer: In this case, when MSE and RMSE values are very close, it is generally recommended to choose RMSE as the evaluation metric for the SVM regression model using a polynomial kernel."
   ]
  },
  {
   "cell_type": "markdown",
   "id": "91488c88-302d-4356-bfbb-e8aa6af22e8d",
   "metadata": {},
   "source": [
    "Q5. You are comparing the performance of different SVM regression models using different kernels (linear, \n",
    "polynomial, and RBF) and are trying to select the best evaluation metric. Which metric would be most \n",
    "appropriate if your goal is to measure how well the model explains the variance in the target variable\n",
    "\n",
    "Answer: If the goal is to measure how well the SVM regression models explain the variance in the target variable, the most appropriate evaluation metric would be the coefficient of determination, also known as R-squared. R-squared provides a measure of the proportion of variance in the target variable that is explained by the model. Higher R-squared values indicate better explanatory power of the model in capturing the variance in the target variable."
   ]
  },
  {
   "cell_type": "code",
   "execution_count": null,
   "id": "c9af1a05-f6d9-4241-a11c-66e1a0c8cfcd",
   "metadata": {},
   "outputs": [],
   "source": [
    "import pandas as pd\n",
    "import numpy as np\n",
    "import matplotlib.pyplot as plt\n",
    "import seaborn as sns"
   ]
  },
  {
   "cell_type": "code",
   "execution_count": null,
   "id": "da9cc070-c3d9-4194-8cb6-89046ca452fc",
   "metadata": {},
   "outputs": [],
   "source": [
    "df = pd.read_csv('https://drive.google.com/file/d/1Z9oLpmt6IDRNw7IeNcHYTGeJRYypRSC0/view.csv')"
   ]
  },
  {
   "cell_type": "code",
   "execution_count": null,
   "id": "d6d9ef82-3b1e-45d1-a9f8-3ad34a29b500",
   "metadata": {},
   "outputs": [],
   "source": [
    "df.head()"
   ]
  },
  {
   "cell_type": "code",
   "execution_count": null,
   "id": "571dd357-9cc2-4fdc-8052-1fdef660d9f9",
   "metadata": {},
   "outputs": [],
   "source": []
  }
 ],
 "metadata": {
  "kernelspec": {
   "display_name": "Python 3 (ipykernel)",
   "language": "python",
   "name": "python3"
  },
  "language_info": {
   "codemirror_mode": {
    "name": "ipython",
    "version": 3
   },
   "file_extension": ".py",
   "mimetype": "text/x-python",
   "name": "python",
   "nbconvert_exporter": "python",
   "pygments_lexer": "ipython3",
   "version": "3.10.8"
  }
 },
 "nbformat": 4,
 "nbformat_minor": 5
}
